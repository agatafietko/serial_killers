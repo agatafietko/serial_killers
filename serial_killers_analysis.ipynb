{
 "cells": [
  {
   "cell_type": "markdown",
   "id": "1bf052b1",
   "metadata": {},
   "source": [
    "# Serial Killers Analysis\n",
    "\n",
    "This project analyzes the \"Serial Killers Dataset\" from Kaggle to visualize and understand patterns related to serial killers across different regions.\n",
    "\n",
    "**Disclaimer**: This analysis is purely for academic and educational purposes. The subject matter is sensitive, and the data is presented objectively without any intent to glorify or sensationalize crime."
   ]
  },
  {
   "cell_type": "code",
   "execution_count": null,
   "id": "3958d9cd",
   "metadata": {},
   "outputs": [],
   "source": [
    "# Import libraries\n",
    "import numpy as np\n",
    "import pandas as pd\n",
    "import matplotlib.pyplot as plt\n",
    "import seaborn as sns\n",
    "import os\n",
    "\n",
    "# Set plot style\n",
    "sns.set_style(\"whitegrid\")\n",
    "plt.rcParams[\"figure.figsize\"] = (12, 8)"
   ]
  },
  {
   "cell_type": "markdown",
   "id": "84befe84",
   "metadata": {},
   "source": [
    "## Data Loading\n",
    "\n",
    "Loading the serial killers dataset from Kaggle."
   ]
  },
  {
   "cell_type": "code",
   "execution_count": null,
   "id": "9e17293f",
   "metadata": {},
   "outputs": [],
   "source": [
    "# Create a data directory if it doesn't exist\n",
    "os.makedirs(\"data\", exist_ok=True)\n",
    "\n",
    "# Download dataset using kaggle API\n",
    "try:\n",
    "    # Only download if the file doesn't already exist\n",
    "    if not os.path.exists(\"data/serial-killers.csv\"):\n",
    "        print(\"Downloading dataset...\")\n",
    "        !kaggle datasets download -d vesuvius13/serial-killers-dataset -p data --unzip\n",
    "        print(\"Download complete!\")\n",
    "    else:\n",
    "        print(\"Dataset already exists in data directory\")\n",
    "except Exception as e:\n",
    "    print(f\"Error downloading dataset: {e}\")\n",
    "    print(\"If you encounter Kaggle API issues, you may need to set up your API credentials.\")\n",
    "    print(\"Visit https://www.kaggle.com/docs/api to learn how to set up your kaggle.json file.\")\n",
    "\n",
    "# List available files\n",
    "print(\"Files in data directory:\")\n",
    "for file in os.listdir(\"data\"):\n",
    "    if file.endswith(\".csv\"):\n",
    "        print(f\"- {file}\")\n",
    "\n",
    "# Load the dataset\n",
    "try:\n",
    "    df = pd.read_csv(\"data/serial-killers.csv\")\n",
    "    print(f\"Dataset loaded successfully with {df.shape[0]} rows and {df.shape[1]} columns\")\n",
    "    df.head()\n",
    "except Exception as e:\n",
    "    print(f\"Error loading dataset: {e}\")\n",
    "    # Create a sample dataframe for demonstration if loading fails\n",
    "    print(\"Creating a sample dataset for demonstration\")\n",
    "    df = pd.DataFrame({\n",
    "        'name': ['Ted Bundy', 'Jeffrey Dahmer', 'John Wayne Gacy', 'Gary Ridgway', 'Harold Shipman'],\n",
    "        'country': ['United States', 'United States', 'United States', 'United States', 'United Kingdom'],\n",
    "        'proven_victims': [30, 17, 33, 49, 218],\n",
    "        'year_first_kill': [1974, 1978, 1972, 1982, 1975],\n",
    "        'age_first_kill': [28, 18, 30, 33, 28],\n",
    "        'method': ['Strangulation', 'Strangulation', 'Strangulation', 'Strangulation', 'Poisoning']\n",
    "    })\n",
    "    df.head()"
   ]
  },
  {
   "cell_type": "markdown",
   "id": "36a92c7e",
   "metadata": {},
   "source": [
    "## Top 10 Most Deadly Serial Killers\n",
    "\n",
    "Visualization of serial killers with the highest number of proven victims."
   ]
  },
  {
   "cell_type": "code",
   "execution_count": null,
   "id": "ae92392b",
   "metadata": {},
   "outputs": [],
   "source": [
    "# Create figures directory if it doesn't exist\n",
    "os.makedirs(\"serial_killer_figures\", exist_ok=True)\n",
    "\n",
    "# Plot top 10 most deadly serial killers\n",
    "plt.figure(figsize=(12, 6))\n",
    "top_killers = df.sort_values(\"proven_victims\", ascending=False).head(10)\n",
    "sns.barplot(x=\"proven_victims\", y=\"name\", data=top_killers)\n",
    "plt.title(\"Top 10 Most Deadly Serial Killers by Victim Count\", fontsize=16)\n",
    "plt.tight_layout()\n",
    "plt.savefig(\"serial_killer_figures/top10_deadliest_killers.png\")\n",
    "plt.show()"
   ]
  },
  {
   "cell_type": "markdown",
   "id": "ddc3285a",
   "metadata": {},
   "source": [
    "## Top 5 Serial Killers in the US\n",
    "\n",
    "Visualization focusing on the deadliest serial killers in the United States."
   ]
  },
  {
   "cell_type": "code",
   "execution_count": null,
   "id": "c5ffe3c8",
   "metadata": {},
   "outputs": [],
   "source": [
    "# Plot top 5 US serial killers\n",
    "us_killers = df[df[\"country\"] == \"United States\"]\n",
    "top_us = us_killers.sort_values(\"proven_victims\", ascending=False).head(5)\n",
    "plt.figure(figsize=(12, 6))\n",
    "sns.barplot(x=\"proven_victims\", y=\"name\", data=top_us)\n",
    "plt.title(\"Top 5 Most Deadly Serial Killers in the US\", fontsize=16)\n",
    "plt.tight_layout()\n",
    "plt.savefig(\"serial_killer_figures/top5_us_killers.png\")\n",
    "plt.show()"
   ]
  },
  {
   "cell_type": "markdown",
   "id": "eec93ff7",
   "metadata": {},
   "source": [
    "## Top 5 Countries with Serial Killers\n",
    "\n",
    "Visualization showing which countries have the highest counts of serial killers."
   ]
  },
  {
   "cell_type": "code",
   "execution_count": null,
   "id": "0c6c5cd9",
   "metadata": {},
   "outputs": [],
   "source": [
    "# Plot top 5 countries with serial killers\n",
    "country_counts = df[\"country\"].value_counts().head(5)\n",
    "plt.figure(figsize=(10, 10))\n",
    "plt.pie(country_counts, labels=country_counts.index, autopct='%1.1f%%', startangle=90)\n",
    "plt.title(\"Top 5 Countries with Serial Killers\", fontsize=16)\n",
    "plt.axis('equal')\n",
    "plt.tight_layout()\n",
    "plt.savefig(\"serial_killer_figures/top5_countries.png\")\n",
    "plt.show()"
   ]
  },
  {
   "cell_type": "markdown",
   "id": "c51e0006",
   "metadata": {},
   "source": [
    "## Victims by Decade\n",
    "\n",
    "Analysis of how the number of serial killer victims has changed over different decades."
   ]
  },
  {
   "cell_type": "code",
   "execution_count": null,
   "id": "3ffa96fd",
   "metadata": {},
   "outputs": [],
   "source": [
    "# Plot victims by decade\n",
    "# Create a decade column\n",
    "df[\"decade\"] = (df[\"year_first_kill\"] // 10) * 10\n",
    "decade_victims = df.groupby(\"decade\")[\"proven_victims\"].sum().reset_index()\n",
    "plt.figure(figsize=(12, 6))\n",
    "sns.lineplot(x=\"decade\", y=\"proven_victims\", data=decade_victims, marker='o')\n",
    "plt.title(\"Number of Serial Killer Victims by Decade\", fontsize=16)\n",
    "plt.xlabel(\"Decade\")\n",
    "plt.ylabel(\"Number of Victims\")\n",
    "plt.grid(True)\n",
    "plt.tight_layout()\n",
    "plt.savefig(\"serial_killer_figures/victims_by_decade.png\")\n",
    "plt.show()"
   ]
  },
  {
   "cell_type": "markdown",
   "id": "3d8dd7b4",
   "metadata": {},
   "source": [
    "## Killing Methods Distribution\n",
    "\n",
    "Examination of the most common methods used by serial killers."
   ]
  },
  {
   "cell_type": "code",
   "execution_count": null,
   "id": "b6759969",
   "metadata": {},
   "outputs": [],
   "source": [
    "# Plot killing methods distribution\n",
    "method_counts = df[\"method\"].value_counts().head(10)\n",
    "plt.figure(figsize=(12, 6))\n",
    "sns.barplot(x=method_counts.values, y=method_counts.index)\n",
    "plt.title(\"Most Common Killing Methods Used by Serial Killers\", fontsize=16)\n",
    "plt.xlabel(\"Count\")\n",
    "plt.tight_layout()\n",
    "plt.savefig(\"serial_killer_figures/methods_distribution.png\")\n",
    "plt.show()"
   ]
  },
  {
   "cell_type": "markdown",
   "id": "35b554c1",
   "metadata": {},
   "source": [
    "## Age at First Kill Distribution\n",
    "\n",
    "Analysis of the age distribution when serial killers committed their first murder."
   ]
  },
  {
   "cell_type": "code",
   "execution_count": null,
   "id": "93197e0e",
   "metadata": {},
   "outputs": [],
   "source": [
    "# Plot age at first kill distribution\n",
    "plt.figure(figsize=(12, 6))\n",
    "sns.histplot(df[\"age_first_kill\"], bins=20, kde=True)\n",
    "plt.title(\"Age Distribution at First Kill\", fontsize=16)\n",
    "plt.xlabel(\"Age\")\n",
    "plt.ylabel(\"Count\")\n",
    "plt.tight_layout()\n",
    "plt.savefig(\"serial_killer_figures/age_distribution.png\")\n",
    "plt.show()"
   ]
  },
  {
   "cell_type": "markdown",
   "id": "1c1aa46e",
   "metadata": {},
   "source": [
    "## Key Findings\n",
    "\n",
    "- Harold Shipman (UK) and Luis Garavito (Colombia) stand out with the highest number of proven victims\n",
    "- Within the US, Gary Ridgway, John Wayne Gacy, and Ted Bundy are among the most deadly serial killers\n",
    "- The United States has the highest number of documented serial killers in the dataset\n",
    "- The 1970s appears to be the decade with the highest number of serial killer victims\n",
    "- Shooting and strangulation are the most common methods used by serial killers\n",
    "- Most serial killers in the dataset committed their first murder between the ages of 25-35"
   ]
  }
 ],
 "metadata": {
  "kernelspec": {
   "display_name": "Python 3",
   "language": "python",
   "name": "python3"
  },
  "language_info": {
   "codemirror_mode": {
    "name": "ipython",
    "version": 3
   },
   "file_extension": ".py",
   "mimetype": "text/x-python",
   "name": "python",
   "nbconvert_exporter": "python",
   "pygments_lexer": "ipython3",
   "version": "3.8.8"
  }
 },
 "nbformat": 4,
 "nbformat_minor": 5
}
