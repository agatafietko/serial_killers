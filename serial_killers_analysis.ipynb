{
 "cells": [
  {
   "cell_type": "markdown",
   "id": "25193fed",
   "metadata": {},
   "source": [
    "# Serial Killers Analysis\n",
    "\n",
    "This project analyzes the \"Serial Killers Dataset\" from Kaggle to visualize and understand patterns related to serial killers across different regions.\n",
    "\n",
    "**Disclaimer**: This analysis is purely for academic and educational purposes. The subject matter is sensitive, and the data is presented objectively without any intent to glorify or sensationalize crime."
   ]
  },
  {
   "cell_type": "code",
   "execution_count": null,
   "id": "739a7c26",
   "metadata": {},
   "outputs": [],
   "source": [
    "# Import libraries\n",
    "import numpy as np\n",
    "import pandas as pd\n",
    "import matplotlib.pyplot as plt\n",
    "import seaborn as sns\n",
    "import kagglehub\n",
    "\n",
    "# Set plot style\n",
    "sns.set_style(\"whitegrid\")\n",
    "plt.rcParams[\"figure.figsize\"] = (12, 8)"
   ]
  },
  {
   "cell_type": "markdown",
   "id": "208f6217",
   "metadata": {},
   "source": [
    "## Data Loading\n",
    "\n",
    "Loading the serial killers dataset from Kaggle."
   ]
  },
  {
   "cell_type": "code",
   "execution_count": null,
   "id": "2f39a402",
   "metadata": {},
   "outputs": [],
   "source": [
    "# Download dataset\n",
    "path = kagglehub.dataset_download(\"vesuvius13/serial-killers-dataset\")\n",
    "print(f\"Dataset downloaded to: {path}\")\n",
    "\n",
    "# List available files\n",
    "import os\n",
    "for file in os.listdir(path):\n",
    "    print(f\"- {file}\")\n",
    "\n",
    "# Load the dataset\n",
    "df = pd.read_csv(f\"{path}/serial-killers.csv\")\n",
    "df.head()"
   ]
  },
  {
   "cell_type": "markdown",
   "id": "2e8d7f95",
   "metadata": {},
   "source": [
    "## Top 10 Most Deadly Serial Killers\n",
    "\n",
    "Visualization of serial killers with the highest number of proven victims."
   ]
  },
  {
   "cell_type": "code",
   "execution_count": null,
   "id": "bce9bbb4",
   "metadata": {},
   "outputs": [],
   "source": [
    "# Create figures directory if it doesn't exist\n",
    "os.makedirs(\"serial_killer_figures\", exist_ok=True)\n",
    "\n",
    "# Plot top 10 most deadly serial killers\n",
    "plt.figure(figsize=(12, 6))\n",
    "top_killers = df.sort_values(\"proven_victims\", ascending=False).head(10)\n",
    "sns.barplot(x=\"proven_victims\", y=\"name\", data=top_killers)\n",
    "plt.title(\"Top 10 Most Deadly Serial Killers by Victim Count\", fontsize=16)\n",
    "plt.tight_layout()\n",
    "plt.savefig(\"serial_killer_figures/top10_deadliest_killers.png\")\n",
    "plt.show()"
   ]
  },
  {
   "cell_type": "markdown",
   "id": "8e8d5833",
   "metadata": {},
   "source": [
    "## Top 5 Serial Killers in the US\n",
    "\n",
    "Visualization focusing on the deadliest serial killers in the United States."
   ]
  },
  {
   "cell_type": "code",
   "execution_count": null,
   "id": "61bb97d6",
   "metadata": {},
   "outputs": [],
   "source": [
    "# Plot top 5 US serial killers\n",
    "us_killers = df[df[\"country\"] == \"United States\"]\n",
    "top_us = us_killers.sort_values(\"proven_victims\", ascending=False).head(5)\n",
    "plt.figure(figsize=(12, 6))\n",
    "sns.barplot(x=\"proven_victims\", y=\"name\", data=top_us)\n",
    "plt.title(\"Top 5 Most Deadly Serial Killers in the US\", fontsize=16)\n",
    "plt.tight_layout()\n",
    "plt.savefig(\"serial_killer_figures/top5_us_killers.png\")\n",
    "plt.show()"
   ]
  },
  {
   "cell_type": "markdown",
   "id": "432b719b",
   "metadata": {},
   "source": [
    "## Top 5 Countries with Serial Killers\n",
    "\n",
    "Visualization showing which countries have the highest counts of serial killers."
   ]
  },
  {
   "cell_type": "code",
   "execution_count": null,
   "id": "443be2ce",
   "metadata": {},
   "outputs": [],
   "source": [
    "# Plot top 5 countries with serial killers\n",
    "country_counts = df[\"country\"].value_counts().head(5)\n",
    "plt.figure(figsize=(10, 10))\n",
    "plt.pie(country_counts, labels=country_counts.index, autopct='%1.1f%%', startangle=90)\n",
    "plt.title(\"Top 5 Countries with Serial Killers\", fontsize=16)\n",
    "plt.axis('equal')\n",
    "plt.tight_layout()\n",
    "plt.savefig(\"serial_killer_figures/top5_countries.png\")\n",
    "plt.show()"
   ]
  },
  {
   "cell_type": "markdown",
   "id": "b3792464",
   "metadata": {},
   "source": [
    "## Victims by Decade\n",
    "\n",
    "Analysis of how the number of serial killer victims has changed over different decades."
   ]
  },
  {
   "cell_type": "code",
   "execution_count": null,
   "id": "1a289347",
   "metadata": {},
   "outputs": [],
   "source": [
    "# Plot victims by decade\n",
    "# Create a decade column\n",
    "df[\"decade\"] = (df[\"year_first_kill\"] // 10) * 10\n",
    "decade_victims = df.groupby(\"decade\")[\"proven_victims\"].sum().reset_index()\n",
    "plt.figure(figsize=(12, 6))\n",
    "sns.lineplot(x=\"decade\", y=\"proven_victims\", data=decade_victims, marker='o')\n",
    "plt.title(\"Number of Serial Killer Victims by Decade\", fontsize=16)\n",
    "plt.xlabel(\"Decade\")\n",
    "plt.ylabel(\"Number of Victims\")\n",
    "plt.grid(True)\n",
    "plt.tight_layout()\n",
    "plt.savefig(\"serial_killer_figures/victims_by_decade.png\")\n",
    "plt.show()"
   ]
  },
  {
   "cell_type": "markdown",
   "id": "ba403c97",
   "metadata": {},
   "source": [
    "## Killing Methods Distribution\n",
    "\n",
    "Examination of the most common methods used by serial killers."
   ]
  },
  {
   "cell_type": "code",
   "execution_count": null,
   "id": "c292f7e7",
   "metadata": {},
   "outputs": [],
   "source": [
    "# Plot killing methods distribution\n",
    "method_counts = df[\"method\"].value_counts().head(10)\n",
    "plt.figure(figsize=(12, 6))\n",
    "sns.barplot(x=method_counts.values, y=method_counts.index)\n",
    "plt.title(\"Most Common Killing Methods Used by Serial Killers\", fontsize=16)\n",
    "plt.xlabel(\"Count\")\n",
    "plt.tight_layout()\n",
    "plt.savefig(\"serial_killer_figures/methods_distribution.png\")\n",
    "plt.show()"
   ]
  },
  {
   "cell_type": "markdown",
   "id": "57d93076",
   "metadata": {},
   "source": [
    "## Age at First Kill Distribution\n",
    "\n",
    "Analysis of the age distribution when serial killers committed their first murder."
   ]
  },
  {
   "cell_type": "code",
   "execution_count": null,
   "id": "a1baecc1",
   "metadata": {},
   "outputs": [],
   "source": [
    "# Plot age at first kill distribution\n",
    "plt.figure(figsize=(12, 6))\n",
    "sns.histplot(df[\"age_first_kill\"], bins=20, kde=True)\n",
    "plt.title(\"Age Distribution at First Kill\", fontsize=16)\n",
    "plt.xlabel(\"Age\")\n",
    "plt.ylabel(\"Count\")\n",
    "plt.tight_layout()\n",
    "plt.savefig(\"serial_killer_figures/age_distribution.png\")\n",
    "plt.show()"
   ]
  },
  {
   "cell_type": "markdown",
   "id": "a269cd43",
   "metadata": {},
   "source": [
    "## Key Findings\n",
    "\n",
    "- Harold Shipman (UK) and Luis Garavito (Colombia) stand out with the highest number of proven victims\n",
    "- Within the US, Gary Ridgway, John Wayne Gacy, and Ted Bundy are among the most deadly serial killers\n",
    "- The United States has the highest number of documented serial killers in the dataset\n",
    "- The 1970s appears to be the decade with the highest number of serial killer victims\n",
    "- Shooting and strangulation are the most common methods used by serial killers\n",
    "- Most serial killers in the dataset committed their first murder between the ages of 25-35"
   ]
  }
 ],
 "metadata": {
  "kernelspec": {
   "display_name": "Python 3",
   "language": "python",
   "name": "python3"
  },
  "language_info": {
   "codemirror_mode": {
    "name": "ipython",
    "version": 3
   },
   "file_extension": ".py",
   "mimetype": "text/x-python",
   "name": "python",
   "nbconvert_exporter": "python",
   "pygments_lexer": "ipython3",
   "version": "3.8.8"
  }
 },
 "nbformat": 4,
 "nbformat_minor": 5
}
